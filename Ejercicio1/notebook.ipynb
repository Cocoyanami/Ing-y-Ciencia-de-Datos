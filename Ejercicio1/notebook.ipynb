{
 "cells": [
  {
   "cell_type": "markdown",
   "id": "5962b2cd-17bb-4ec9-b2d5-68537ca26860",
   "metadata": {},
   "source": [
    "**Netflix**! What started in 1997 as a DVD rental service has since exploded into one of the largest entertainment and media companies.\n",
    "\n",
    "Given the large number of movies and series available on the platform, it is a perfect opportunity to flex your exploratory data analysis skills and dive into the entertainment industry.\n",
    "\n",
    "You work for a production company that specializes in nostalgic styles. You want to do some research on movies released in the 1990's. You'll delve into Netflix data and perform exploratory data analysis to better understand this awesome movie decade!\n",
    "\n",
    "You have been supplied with the dataset `netflix_data.csv`, along with the following table detailing the column names and descriptions. Feel free to experiment further after submitting!\n",
    "\n",
    "## The data\n",
    "### **netflix_data.csv**\n",
    "| Column | Description |\n",
    "|--------|-------------|\n",
    "| `show_id` | The ID of the show |\n",
    "| `type` | Type of show |\n",
    "| `title` | Title of the show |\n",
    "| `director` | Director of the show |\n",
    "| `cast` | Cast of the show |\n",
    "| `country` | Country of origin |\n",
    "| `date_added` | Date added to Netflix |\n",
    "| `release_year` | Year of Netflix release |\n",
    "| `duration` | Duration of the show in minutes |\n",
    "| `description` | Description of the show |\n",
    "| `genre` | Show genre |"
   ]
  },
  {
   "cell_type": "code",
   "execution_count": 10,
   "id": "320a3abc-8a36-4b2b-baaf-473325363a4d",
   "metadata": {
    "executionCancelledAt": null,
    "executionTime": 39,
    "lastExecutedAt": 1760116754585,
    "lastExecutedByKernel": "caf1c265-d0c1-4e4a-a02c-007d0392fd5e",
    "lastScheduledRunId": null,
    "lastSuccessfullyExecutedCode": "# Importing pandas and matplotlib\nimport pandas as pd\nimport matplotlib.pyplot as plt\n\n# Read in the Netflix CSV as a DataFrame\nnetflix_df = pd.read_csv(\"netflix_data.csv\")"
   },
   "outputs": [],
   "source": [
    "# Importing pandas and matplotlib\n",
    "import pandas as pd\n",
    "import matplotlib.pyplot as plt\n",
    "\n",
    "# Read in the Netflix CSV as a DataFrame\n",
    "netflix_df = pd.read_csv(\"netflix_data.csv\")"
   ]
  },
  {
   "cell_type": "code",
   "execution_count": 11,
   "id": "72658473-114f-49eb-bd4e-cc03c710834a",
   "metadata": {
    "executionCancelledAt": null,
    "executionTime": 52,
    "lastExecutedAt": 1760116754637,
    "lastExecutedByKernel": "caf1c265-d0c1-4e4a-a02c-007d0392fd5e",
    "lastScheduledRunId": null,
    "lastSuccessfullyExecutedCode": "print(netflix_df.columns)\n# Filtrar solo películas\nmovies_df = netflix_df[netflix_df['type'] == 'Movie']\n\n# Asegurar que release_year sea numérico\nmovies_df['release_year'] = pd.to_numeric(movies_df['release_year'], errors='coerce')\n\n# Filtrar películas de los años 90\nmovies_90s = movies_df[(movies_df['release_year'] >= 1990) & (movies_df['release_year'] < 2000)]\n\n# Duración más frecuente\nduration = int(movies_90s['duration'].mode()[0])\nprint(\"Most frequent duration in the 1990s:\", duration)\n\n# Contar películas de acción cortas (< 90 min)\nshort_action_movies = movies_90s[\n    (movies_90s['duration'] < 90) &\n    (movies_90s['genre'].str.contains(\"Action\", case=False, na=False))\n]\nshort_movie_count = short_action_movies.shape[0]\nprint(\"Short action movies in the 1990s:\", short_movie_count)",
    "outputsMetadata": {
     "0": {
      "height": 122,
      "type": "stream"
     }
    }
   },
   "outputs": [
    {
     "name": "stdout",
     "output_type": "stream",
     "text": [
      "Index(['show_id', 'type', 'title', 'director', 'cast', 'country', 'date_added',\n",
      "       'release_year', 'duration', 'description', 'genre'],\n",
      "      dtype='object')\n",
      "Most frequent duration in the 1990s: 94\n",
      "Short action movies in the 1990s: 7\n"
     ]
    }
   ],
   "source": [
    "print(netflix_df.columns)\n",
    "# Filtrar solo películas\n",
    "movies_df = netflix_df[netflix_df['type'] == 'Movie']\n",
    "\n",
    "# Asegurar que release_year sea numérico\n",
    "movies_df['release_year'] = pd.to_numeric(movies_df['release_year'], errors='coerce')\n",
    "\n",
    "# Filtrar películas de los años 90\n",
    "movies_90s = movies_df[(movies_df['release_year'] >= 1990) & (movies_df['release_year'] < 2000)]\n",
    "\n",
    "# Duración más frecuente\n",
    "duration = int(movies_90s['duration'].mode()[0])\n",
    "print(\"Most frequent duration in the 1990s:\", duration)\n",
    "\n",
    "# Contar películas de acción cortas (< 90 min)\n",
    "short_action_movies = movies_90s[\n",
    "    (movies_90s['duration'] < 90) &\n",
    "    (movies_90s['genre'].str.contains(\"Action\", case=False, na=False))\n",
    "]\n",
    "short_movie_count = short_action_movies.shape[0]\n",
    "print(\"Short action movies in the 1990s:\", short_movie_count)"
   ]
  }
 ],
 "metadata": {
  "colab": {
   "name": "Welcome to DataCamp Workspaces.ipynb",
   "provenance": []
  },
  "editor": "DataLab",
  "kernelspec": {
   "display_name": "Python 3 (ipykernel)",
   "language": "python",
   "name": "python3"
  },
  "language_info": {
   "codemirror_mode": {
    "name": "ipython",
    "version": 3
   },
   "file_extension": ".py",
   "mimetype": "text/x-python",
   "name": "python",
   "nbconvert_exporter": "python",
   "pygments_lexer": "ipython3",
   "version": "3.8.10"
  }
 },
 "nbformat": 4,
 "nbformat_minor": 5
}
